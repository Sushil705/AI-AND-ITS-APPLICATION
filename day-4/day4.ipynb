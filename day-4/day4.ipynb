{
  "nbformat": 4,
  "nbformat_minor": 0,
  "metadata": {
    "colab": {
      "provenance": []
    },
    "kernelspec": {
      "name": "python3",
      "display_name": "Python 3"
    },
    "language_info": {
      "name": "python"
    }
  },
  "cells": [
    {
      "cell_type": "markdown",
      "source": [
        "#**Section- 1**"
      ],
      "metadata": {
        "id": "5-zZNmwfBRC1"
      }
    },
    {
      "cell_type": "code",
      "source": [
        "print(\"Iam Sushil\")"
      ],
      "metadata": {
        "colab": {
          "base_uri": "https://localhost:8080/"
        },
        "id": "bGghJoh_A7lV",
        "outputId": "f84c3365-3cd8-4525-d307-ddf5af3562cc"
      },
      "execution_count": null,
      "outputs": [
        {
          "output_type": "stream",
          "name": "stdout",
          "text": [
            "Iam Sushil\n"
          ]
        }
      ]
    },
    {
      "cell_type": "markdown",
      "source": [
        "Functions on Python"
      ],
      "metadata": {
        "id": "9GYuTYaXCCpn"
      }
    },
    {
      "cell_type": "code",
      "source": [
        "def area_of_square(num):\n",
        "  return num*num\n",
        "print(\"The area  of first square is :\",area_of_square(6))\n",
        "print(\"The area of second square is:\",area_of_square(5))"
      ],
      "metadata": {
        "colab": {
          "base_uri": "https://localhost:8080/"
        },
        "id": "u_EjnnUqB1FD",
        "outputId": "a091ba49-69a1-4b40-8c8b-84f3419281f9"
      },
      "execution_count": null,
      "outputs": [
        {
          "output_type": "stream",
          "name": "stdout",
          "text": [
            "The area  of first square is : 36\n",
            "The area of second square is: 25\n"
          ]
        }
      ]
    },
    {
      "cell_type": "code",
      "source": [
        "\n",
        "def area_of_circle(num):\n",
        "  return 3.7*num\n",
        "print(\"The area of Circle is:\",area_of_circle(5))"
      ],
      "metadata": {
        "colab": {
          "base_uri": "https://localhost:8080/"
        },
        "id": "X-oG4-MmCbqj",
        "outputId": "88751f55-5ce2-46db-f61b-3f50452b6112"
      },
      "execution_count": null,
      "outputs": [
        {
          "output_type": "stream",
          "name": "stdout",
          "text": [
            "The area of Circle is: 18.5\n"
          ]
        }
      ]
    },
    {
      "cell_type": "markdown",
      "source": [
        "Lists in Python"
      ],
      "metadata": {
        "id": "xpTooW2ZEBuB"
      }
    },
    {
      "cell_type": "code",
      "source": [
        "#creating a lists of fruits\n",
        "fruits=[\"apple\",\"banana\",\"kiwi\",\"orange\",\"gava\"]\n",
        "\n",
        "#Acessing elements\n",
        "# print(fruits[0])#acessing first element in the list\n",
        "# print(fruits[4])#accessing the 5th element in the list\n",
        "# print(fruits[-1])#accessing the last element in the  list\n",
        "# print(fruits[-2])#accessing the 2nd  last element in the list\n",
        "\n",
        "#Adding and removing elements from list\n",
        "fruits.append(\"mango\")\n",
        "print(fruits)\n",
        "\n",
        "#Removing elements from the list\n",
        "fruits.remove(\"kiwi\")\n",
        "print(fruits)"
      ],
      "metadata": {
        "colab": {
          "base_uri": "https://localhost:8080/"
        },
        "id": "0s96ZhfED_kV",
        "outputId": "3ea3bfdc-dce7-4182-b89a-155d72942675"
      },
      "execution_count": null,
      "outputs": [
        {
          "output_type": "stream",
          "name": "stdout",
          "text": [
            "['apple', 'banana', 'kiwi', 'orange', 'gava', 'mango']\n",
            "['apple', 'banana', 'orange', 'gava', 'mango']\n"
          ]
        }
      ]
    },
    {
      "cell_type": "markdown",
      "source": [
        "creating dictioneries"
      ],
      "metadata": {
        "id": "4YHallziNIxH"
      }
    },
    {
      "cell_type": "code",
      "source": [
        "student={\n",
        "    \"name\":\"Ram Sahi\",\n",
        "    \"age\":30,\n",
        "    \"course\":\"Computer Science\"\n",
        "}\n",
        "\n",
        "#Accessing the value of particular key in dictionary\n",
        "print(student[\"age\"])\n",
        "\n",
        "#Updating values of particular key in the dictioneary\n",
        "student[\"age\"]=60\n",
        "print(student[\"age\"])\n",
        "\n",
        "#Adding the new key-value pair on the dictioneary\n",
        "student[\"address\"]=\"Kathmandu\"\n",
        "print(student)\n",
        "\n",
        "#Removing a key-value pair from dictioneary\n",
        "\n",
        "del student[\"course\"]\n",
        "print(student)\n"
      ],
      "metadata": {
        "colab": {
          "base_uri": "https://localhost:8080/"
        },
        "id": "oBn0lJykEhQK",
        "outputId": "10030729-a6a1-47fc-fb5f-e6cc03bb5eec"
      },
      "execution_count": null,
      "outputs": [
        {
          "output_type": "stream",
          "name": "stdout",
          "text": [
            "30\n",
            "60\n",
            "{'name': 'Ram Sahi', 'age': 60, 'course': 'Computer Science', 'address': 'Kathmandu'}\n",
            "{'name': 'Ram Sahi', 'age': 60, 'address': 'Kathmandu'}\n"
          ]
        }
      ]
    },
    {
      "cell_type": "markdown",
      "source": [
        "  **Temperature change**"
      ],
      "metadata": {
        "id": "Dg8qLbG3OseM"
      }
    },
    {
      "cell_type": "code",
      "source": [
        "#Taking Input from the user\n",
        "num =float(input(\"What is the temperature in celsius:\"))\n",
        "def todays_temp(num):\n",
        "  return num*9/5+32\n",
        "print(\"The temperature in Fahrenheit is:\",todays_temp(num))\n",
        "\n"
      ],
      "metadata": {
        "colab": {
          "base_uri": "https://localhost:8080/"
        },
        "id": "k0YzEOm1Ow_x",
        "outputId": "6f0078ec-6a0e-4173-e1bb-93dd0035bbe3"
      },
      "execution_count": null,
      "outputs": [
        {
          "output_type": "stream",
          "name": "stdout",
          "text": [
            "What is the temperature?:33\n",
            "The temperature in Fahrenheit is: 91.4\n"
          ]
        }
      ]
    },
    {
      "cell_type": "markdown",
      "source": [
        "**Age Calculator**"
      ],
      "metadata": {
        "id": "PHzqpmKLXveQ"
      }
    },
    {
      "cell_type": "code",
      "source": [
        "\n",
        "import datetime\n",
        "current_year = datetime.datetime.now().year\n",
        "birth_year = int(input(\"Please enter your birth year in A.D. (e.g., 1995): \"))\n",
        "if birth_year > current_year:\n",
        "    print(\"Error: Incorrect Birth Date please provide right input.\")\n",
        "else:\n",
        "    age = current_year - birth_year\n",
        "    print(f\"You are {age} years old.\")\n",
        "\n"
      ],
      "metadata": {
        "id": "loLAH1O6SBgp",
        "colab": {
          "base_uri": "https://localhost:8080/"
        },
        "outputId": "5fe9dc06-06b2-4e72-e3f1-aedb3130eb97"
      },
      "execution_count": null,
      "outputs": [
        {
          "output_type": "stream",
          "name": "stdout",
          "text": [
            "Please enter your birth year in A.D. (e.g., 1995): 2030\n",
            "Error: Incorrect Birth Date please provide right input.\n"
          ]
        }
      ]
    },
    {
      "cell_type": "markdown",
      "source": [
        "**Simple Interest Calculator**"
      ],
      "metadata": {
        "id": "Sf2tX7pMaqLZ"
      }
    },
    {
      "cell_type": "code",
      "source": [
        "\n",
        "principal = float(input(\"Enter the principal amount: \"))\n",
        "rate = float(input(\"Enter the annual rate of interest (%): \"))\n",
        "time = float(input(\"Enter the time in years: \"))\n",
        "simple_interest = (principal * rate * time) / 100\n",
        "print(f\"The simple interest is: {simple_interest:.2f}\")\n"
      ],
      "metadata": {
        "colab": {
          "base_uri": "https://localhost:8080/"
        },
        "id": "WjIMHqLeavdK",
        "outputId": "db033719-395a-4665-c95d-ec3db74e6958"
      },
      "execution_count": null,
      "outputs": [
        {
          "output_type": "stream",
          "name": "stdout",
          "text": [
            "Enter the principal amount: 10\n",
            "Enter the annual rate of interest (%): 5\n",
            "Enter the time in years: 32\n",
            "The simple interest is: 16.00\n"
          ]
        }
      ]
    },
    {
      "cell_type": "markdown",
      "source": [
        "**BMI Calculator**"
      ],
      "metadata": {
        "id": "XzU1_ph8bCq_"
      }
    },
    {
      "cell_type": "code",
      "source": [
        "\n",
        "weight = float(input(\"Enter your weight in kilograms (kg): \"))\n",
        "height = float(input(\"Enter your height in meters (m): \"))\n",
        "bmi = weight / (height ** 2)\n",
        "if bmi < 18.5:\n",
        "    category = \"Underweight\"\n",
        "elif 18.5 <= bmi < 24.9:\n",
        "    category = \"Normal weight\"\n",
        "elif 25 <= bmi < 29.9:\n",
        "    category = \"Overweight\"\n",
        "else:\n",
        "    category = \"Obese\"\n",
        "print(f\"Your BMI is: {bmi:.2f}\")\n",
        "print(f\"You are categorized as: {category}\")\n"
      ],
      "metadata": {
        "colab": {
          "base_uri": "https://localhost:8080/"
        },
        "id": "ErjtqdjHbGnc",
        "outputId": "cfb4e29c-5ce1-4e2a-9623-6786f750bf58"
      },
      "execution_count": null,
      "outputs": [
        {
          "output_type": "stream",
          "name": "stdout",
          "text": [
            "Enter your weight in kilograms (kg): 70\n",
            "Enter your height in meters (m): 1.8288\n",
            "Your BMI is: 20.93\n",
            "You are categorized as: Normal weight\n"
          ]
        }
      ]
    },
    {
      "cell_type": "markdown",
      "source": [
        "**Currency Converter**\n"
      ],
      "metadata": {
        "id": "kXgufyC5bh_Q"
      }
    },
    {
      "cell_type": "code",
      "source": [
        "\n",
        "exchange_rate = 136.87\n",
        "amount_npr = float(input(\"Enter the amount in Nepali Rupees (NPR): \"))\n",
        "amount_usd = amount_npr / exchange_rate\n",
        "print(f\"{amount_npr:.2f} NPR is approximately {amount_usd:.2f} USD.\")\n"
      ],
      "metadata": {
        "colab": {
          "base_uri": "https://localhost:8080/"
        },
        "id": "qFpgn9qnboGm",
        "outputId": "9694c720-28a8-42aa-9846-53221c90bbfe"
      },
      "execution_count": null,
      "outputs": [
        {
          "output_type": "stream",
          "name": "stdout",
          "text": [
            "Enter the amount in Nepali Rupees (NPR): 500000\n",
            "500000.00 NPR is approximately 3653.10 USD.\n"
          ]
        }
      ]
    },
    {
      "cell_type": "code",
      "source": [
        "import random\n",
        "print(random.randint(1,10))"
      ],
      "metadata": {
        "colab": {
          "base_uri": "https://localhost:8080/"
        },
        "id": "bCOE4OCCFbP6",
        "outputId": "a5ea7fc4-7184-4159-a2d3-9249e0b7ab60"
      },
      "execution_count": null,
      "outputs": [
        {
          "output_type": "stream",
          "name": "stdout",
          "text": [
            "4\n"
          ]
        }
      ]
    },
    {
      "cell_type": "markdown",
      "source": [
        "#NUMPY BASICS\n"
      ],
      "metadata": {
        "id": "eEiuWS07Uief"
      }
    },
    {
      "cell_type": "markdown",
      "source": [
        "**CREATING A NUMPY ARRAY AND ITS ATTRIBUTES**"
      ],
      "metadata": {
        "id": "P6OeKOUgUoDx"
      }
    },
    {
      "cell_type": "code",
      "source": [
        "#importing numpy library\n",
        "import numpy as np\n",
        "#creating a list name \"my_list\"\n",
        "my_list =[1,2,3,4,5,6,]\n",
        "#creating a 1-D numpy array from \"my_list\"\n",
        "my_arr =np.array(my_list)\n",
        "#printing the array\n",
        "print(my_arr)\n",
        "\n",
        "#creating a 0-D array\n",
        "arr_0d =np.array(43)\n",
        "print(arr_0d)\n",
        "\n",
        "#creating a 2-D array\n",
        "arr_2d =np.array([[1,2,3],[4,5,6]])\n",
        "print(arr_2d)\n",
        "\n",
        "#creating a 3d-array\n",
        "arr_3d =np.array([[[1,2,3],[4,5,6],[7,8,9],[10,11,12]]])\n",
        "print(arr_3d)\n"
      ],
      "metadata": {
        "colab": {
          "base_uri": "https://localhost:8080/"
        },
        "id": "SBegkqFdUmI4",
        "outputId": "b8c2c9ac-3dd0-4051-8677-54ce99bfaf22"
      },
      "execution_count": 4,
      "outputs": [
        {
          "output_type": "stream",
          "name": "stdout",
          "text": [
            "[1 2 3 4 5 6]\n",
            "43\n",
            "[[1 2 3]\n",
            " [4 5 6]]\n",
            "[[[ 1  2  3]\n",
            "  [ 4  5  6]\n",
            "  [ 7  8  9]\n",
            "  [10 11 12]]]\n"
          ]
        }
      ]
    },
    {
      "cell_type": "code",
      "source": [
        "#creating array and its attributes\n",
        "arr =np.array([[1,2,3,4],[5,6,7,8]])\n",
        "print(arr)#printing the array\n",
        "print(arr.shape)#printing the shape of array\n",
        "print(arr.ndim)#dimensions\n",
        "print(arr.dtype)#type\n",
        "print(arr.size)#size"
      ],
      "metadata": {
        "colab": {
          "base_uri": "https://localhost:8080/"
        },
        "id": "IEIFwxqVWuur",
        "outputId": "29afffc2-d6ae-4874-f099-f8743f60bc8e"
      },
      "execution_count": 5,
      "outputs": [
        {
          "output_type": "stream",
          "name": "stdout",
          "text": [
            "[[1 2 3 4]\n",
            " [5 6 7 8]]\n",
            "(2, 4)\n",
            "2\n",
            "int64\n",
            "8\n"
          ]
        }
      ]
    },
    {
      "cell_type": "markdown",
      "source": [
        "#ACCESSING AND MANUPLATING THE  ARRAY ELEMENTS"
      ],
      "metadata": {
        "id": "G09wOEDxXjYc"
      }
    },
    {
      "cell_type": "code",
      "source": [
        "#accessing the 1-D array elements\n",
        "my_arr = np.array([2,3,4,5])\n",
        "print(my_arr[2])"
      ],
      "metadata": {
        "colab": {
          "base_uri": "https://localhost:8080/"
        },
        "id": "novRDcJ6Xrl_",
        "outputId": "7706f552-d71b-42aa-c5ca-15ba091e610d"
      },
      "execution_count": 7,
      "outputs": [
        {
          "output_type": "stream",
          "name": "stdout",
          "text": [
            "4\n"
          ]
        }
      ]
    },
    {
      "cell_type": "code",
      "source": [
        "#accessing the 2-D array elements\n",
        "my_arr = np.array([[2,3,4,5],[1,3,5,6]])\n",
        "print(my_arr[1,3])"
      ],
      "metadata": {
        "colab": {
          "base_uri": "https://localhost:8080/"
        },
        "id": "y-1Gfl7lYQUF",
        "outputId": "483d45f3-67f9-42dd-ca72-b76b7305f561"
      },
      "execution_count": 9,
      "outputs": [
        {
          "output_type": "stream",
          "name": "stdout",
          "text": [
            "6\n"
          ]
        }
      ]
    },
    {
      "cell_type": "code",
      "source": [
        "#accessing the 3-D array elements\n",
        "my_arr = np.array([[[2,3,4,5],[1,3,5,6]],[[3,4,5,6],[5,6,7,8]]])\n",
        "print(my_arr[0,1,2])"
      ],
      "metadata": {
        "colab": {
          "base_uri": "https://localhost:8080/"
        },
        "id": "Vf5D93_RYfH_",
        "outputId": "89412bf0-745c-4c51-d53a-4a19d223a43b"
      },
      "execution_count": 13,
      "outputs": [
        {
          "output_type": "stream",
          "name": "stdout",
          "text": [
            "5\n"
          ]
        }
      ]
    },
    {
      "cell_type": "markdown",
      "source": [
        "#NEGATIVE INDEXING"
      ],
      "metadata": {
        "id": "R0wEXDtuZHRi"
      }
    },
    {
      "cell_type": "code",
      "source": [
        "#accessing the 2-D array elements with negative indexing\n",
        "my_arr = np.array([[2,3,4,5],[1,3,5,6]])\n",
        "print(my_arr[1,-3])"
      ],
      "metadata": {
        "colab": {
          "base_uri": "https://localhost:8080/"
        },
        "id": "Cn-eHfPYZKrd",
        "outputId": "d14c92b4-ea75-4049-c257-11932382f978"
      },
      "execution_count": 14,
      "outputs": [
        {
          "output_type": "stream",
          "name": "stdout",
          "text": [
            "3\n"
          ]
        }
      ]
    },
    {
      "cell_type": "markdown",
      "source": [
        "#SLICING ARRAYS"
      ],
      "metadata": {
        "id": "8aLMvXJ1Zo6d"
      }
    },
    {
      "cell_type": "markdown",
      "source": [
        "### important concepts wile slicing array\n",
        "###array[start:end]\n",
        "###array[start:end:step]"
      ],
      "metadata": {
        "id": "gyKGcNkwaR8b"
      }
    },
    {
      "cell_type": "code",
      "source": [
        "arr = np.array([1,2,4,5,6,8,9,80,43])\n",
        "print(arr[1:5])#slicing\n",
        "print(arr[1:5:2])#slicing with step\n",
        "print(arr[0:-1])#negative"
      ],
      "metadata": {
        "colab": {
          "base_uri": "https://localhost:8080/"
        },
        "id": "F2ZXKEsLZnEc",
        "outputId": "81c195b7-3340-4f68-a985-44b5ace6841a"
      },
      "execution_count": 15,
      "outputs": [
        {
          "output_type": "stream",
          "name": "stdout",
          "text": [
            "[2 4 5 6]\n",
            "[2 5]\n",
            "[ 1  2  4  5  6  8  9 80]\n"
          ]
        }
      ]
    },
    {
      "cell_type": "code",
      "source": [
        "#slicing a 2-D Numpy Array\n",
        "arr = np.array([[1,2,3,4],[4,6,7,9]])\n",
        "print(arr[1,1:-1])\n",
        "\n",
        "#Homework :Experiment with slicing on a 3-D array\n"
      ],
      "metadata": {
        "colab": {
          "base_uri": "https://localhost:8080/"
        },
        "id": "Y7y_FPmcasua",
        "outputId": "6af56d7f-2f99-4315-f42f-045aecef5520"
      },
      "execution_count": 16,
      "outputs": [
        {
          "output_type": "stream",
          "name": "stdout",
          "text": [
            "[6 7]\n"
          ]
        }
      ]
    },
    {
      "cell_type": "markdown",
      "source": [
        "#CLASSWORK"
      ],
      "metadata": {
        "id": "L6AhfqXRbuHj"
      }
    },
    {
      "cell_type": "code",
      "source": [
        "#creating a Numpy array\n",
        "import numpy as np\n",
        "array_list=[7,14,21,28]\n",
        "my_arr=np.array(array_list)\n",
        "print(my_arr)"
      ],
      "metadata": {
        "colab": {
          "base_uri": "https://localhost:8080/"
        },
        "id": "lX9owaQ-bwly",
        "outputId": "b831d7e0-642c-4417-b420-9e56d113b638"
      },
      "execution_count": 18,
      "outputs": [
        {
          "output_type": "stream",
          "name": "stdout",
          "text": [
            "[ 7 14 21 28]\n"
          ]
        }
      ]
    },
    {
      "cell_type": "code",
      "source": [
        "#creating 2-D array\n",
        "arr_2d =np.array([[5,10,15],[20,25,30]])\n",
        "print(arr_2d)"
      ],
      "metadata": {
        "colab": {
          "base_uri": "https://localhost:8080/"
        },
        "id": "_fyqxnxncrIf",
        "outputId": "f8d9c7e4-268d-47a7-9f1c-f4484e1b7ce1"
      },
      "execution_count": 20,
      "outputs": [
        {
          "output_type": "stream",
          "name": "stdout",
          "text": [
            "[[ 5 10 15]\n",
            " [20 25 30]]\n"
          ]
        }
      ]
    },
    {
      "cell_type": "code",
      "source": [
        "#using np.zeros\n",
        "zeros_arr = np.zeros((2, 3))\n",
        "arange_arr = np.arange(0, 13, 3)\n",
        "print(\"3. Zeros Array:\\n\", zeros_arr)\n",
        "print(\"   Arange Array:\", arange_arr)"
      ],
      "metadata": {
        "colab": {
          "base_uri": "https://localhost:8080/"
        },
        "id": "FdMx6bphdaFT",
        "outputId": "fae3c3d0-d663-427c-d80e-522738ae5dbb"
      },
      "execution_count": 23,
      "outputs": [
        {
          "output_type": "stream",
          "name": "stdout",
          "text": [
            "3. Zeros Array:\n",
            " [[0. 0. 0.]\n",
            " [0. 0. 0.]]\n",
            "   Arange Array: [ 0  3  6  9 12]\n"
          ]
        }
      ]
    },
    {
      "cell_type": "code",
      "source": [
        "#creating numpy array\n",
        "arr4 = np.array([2, 4, 6, 8])\n",
        "result4 = arr4 * 3\n",
        "print(\"4. Multiplied Array:\", result4)"
      ],
      "metadata": {
        "colab": {
          "base_uri": "https://localhost:8080/"
        },
        "id": "KMN998Hyed6O",
        "outputId": "bc00ced4-735e-412b-82a3-88e02ebca68d"
      },
      "execution_count": 24,
      "outputs": [
        {
          "output_type": "stream",
          "name": "stdout",
          "text": [
            "4. Multiplied Array: [ 6 12 18 24]\n"
          ]
        }
      ]
    },
    {
      "cell_type": "code",
      "source": [
        "#numpy array slicing and indexing\n",
        "arr5 = np.array([1, 3, 5, 7, 9, 11])\n",
        "print(\"5. Third Element:\", arr5[2])\n",
        "print(\"   Slice (index 1 to 3):\", arr5[1:4])"
      ],
      "metadata": {
        "colab": {
          "base_uri": "https://localhost:8080/"
        },
        "id": "UpCMr8JIeovd",
        "outputId": "83a34364-7d00-47d8-dad8-4c085a3b95ea"
      },
      "execution_count": 25,
      "outputs": [
        {
          "output_type": "stream",
          "name": "stdout",
          "text": [
            "5. Third Element: 5\n",
            "   Slice (index 1 to 3): [3 5 7]\n"
          ]
        }
      ]
    }
  ]
}