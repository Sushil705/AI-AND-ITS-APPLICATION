{
  "nbformat": 4,
  "nbformat_minor": 0,
  "metadata": {
    "colab": {
      "provenance": []
    },
    "kernelspec": {
      "name": "python3",
      "display_name": "Python 3"
    },
    "language_info": {
      "name": "python"
    }
  },
  "cells": [
    {
      "cell_type": "markdown",
      "source": [
        "#**Section- 1**"
      ],
      "metadata": {
        "id": "5-zZNmwfBRC1"
      }
    },
    {
      "cell_type": "code",
      "source": [
        "print(\"Iam Sushil\")"
      ],
      "metadata": {
        "colab": {
          "base_uri": "https://localhost:8080/"
        },
        "id": "bGghJoh_A7lV",
        "outputId": "f84c3365-3cd8-4525-d307-ddf5af3562cc"
      },
      "execution_count": null,
      "outputs": [
        {
          "output_type": "stream",
          "name": "stdout",
          "text": [
            "Iam Sushil\n"
          ]
        }
      ]
    },
    {
      "cell_type": "markdown",
      "source": [
        "Functions on Python"
      ],
      "metadata": {
        "id": "9GYuTYaXCCpn"
      }
    },
    {
      "cell_type": "code",
      "source": [
        "def area_of_square(num):\n",
        "  return num*num\n",
        "print(\"The area  of first square is :\",area_of_square(6))\n",
        "print(\"The area of second square is:\",area_of_square(5))"
      ],
      "metadata": {
        "colab": {
          "base_uri": "https://localhost:8080/"
        },
        "id": "u_EjnnUqB1FD",
        "outputId": "a091ba49-69a1-4b40-8c8b-84f3419281f9"
      },
      "execution_count": null,
      "outputs": [
        {
          "output_type": "stream",
          "name": "stdout",
          "text": [
            "The area  of first square is : 36\n",
            "The area of second square is: 25\n"
          ]
        }
      ]
    },
    {
      "cell_type": "code",
      "source": [
        "\n",
        "def area_of_circle(num):\n",
        "  return 3.7*num\n",
        "print(\"The area of Circle is:\",area_of_circle(5))"
      ],
      "metadata": {
        "colab": {
          "base_uri": "https://localhost:8080/"
        },
        "id": "X-oG4-MmCbqj",
        "outputId": "88751f55-5ce2-46db-f61b-3f50452b6112"
      },
      "execution_count": null,
      "outputs": [
        {
          "output_type": "stream",
          "name": "stdout",
          "text": [
            "The area of Circle is: 18.5\n"
          ]
        }
      ]
    },
    {
      "cell_type": "markdown",
      "source": [
        "Lists in Python"
      ],
      "metadata": {
        "id": "xpTooW2ZEBuB"
      }
    },
    {
      "cell_type": "code",
      "source": [
        "#creating a lists of fruits\n",
        "fruits=[\"apple\",\"banana\",\"kiwi\",\"orange\",\"gava\"]\n",
        "\n",
        "#Acessing elements\n",
        "# print(fruits[0])#acessing first element in the list\n",
        "# print(fruits[4])#accessing the 5th element in the list\n",
        "# print(fruits[-1])#accessing the last element in the  list\n",
        "# print(fruits[-2])#accessing the 2nd  last element in the list\n",
        "\n",
        "#Adding and removing elements from list\n",
        "fruits.append(\"mango\")\n",
        "print(fruits)\n",
        "\n",
        "#Removing elements from the list\n",
        "fruits.remove(\"kiwi\")\n",
        "print(fruits)"
      ],
      "metadata": {
        "colab": {
          "base_uri": "https://localhost:8080/"
        },
        "id": "0s96ZhfED_kV",
        "outputId": "3ea3bfdc-dce7-4182-b89a-155d72942675"
      },
      "execution_count": null,
      "outputs": [
        {
          "output_type": "stream",
          "name": "stdout",
          "text": [
            "['apple', 'banana', 'kiwi', 'orange', 'gava', 'mango']\n",
            "['apple', 'banana', 'orange', 'gava', 'mango']\n"
          ]
        }
      ]
    },
    {
      "cell_type": "markdown",
      "source": [
        "creating dictioneries"
      ],
      "metadata": {
        "id": "4YHallziNIxH"
      }
    },
    {
      "cell_type": "code",
      "source": [
        "student={\n",
        "    \"name\":\"Ram Sahi\",\n",
        "    \"age\":30,\n",
        "    \"course\":\"Computer Science\"\n",
        "}\n",
        "\n",
        "#Accessing the value of particular key in dictionary\n",
        "print(student[\"age\"])\n",
        "\n",
        "#Updating values of particular key in the dictioneary\n",
        "student[\"age\"]=60\n",
        "print(student[\"age\"])\n",
        "\n",
        "#Adding the new key-value pair on the dictioneary\n",
        "student[\"address\"]=\"Kathmandu\"\n",
        "print(student)\n",
        "\n",
        "#Removing a key-value pair from dictioneary\n",
        "\n",
        "del student[\"course\"]\n",
        "print(student)\n"
      ],
      "metadata": {
        "colab": {
          "base_uri": "https://localhost:8080/"
        },
        "id": "oBn0lJykEhQK",
        "outputId": "10030729-a6a1-47fc-fb5f-e6cc03bb5eec"
      },
      "execution_count": null,
      "outputs": [
        {
          "output_type": "stream",
          "name": "stdout",
          "text": [
            "30\n",
            "60\n",
            "{'name': 'Ram Sahi', 'age': 60, 'course': 'Computer Science', 'address': 'Kathmandu'}\n",
            "{'name': 'Ram Sahi', 'age': 60, 'address': 'Kathmandu'}\n"
          ]
        }
      ]
    },
    {
      "cell_type": "markdown",
      "source": [
        "  **Temperature change**"
      ],
      "metadata": {
        "id": "Dg8qLbG3OseM"
      }
    },
    {
      "cell_type": "code",
      "source": [
        "#Taking Input from the user\n",
        "num =float(input(\"What is the temperature in celsius:\"))\n",
        "def todays_temp(num):\n",
        "  return num*9/5+32\n",
        "print(\"The temperature in Fahrenheit is:\",todays_temp(num))\n",
        "\n"
      ],
      "metadata": {
        "colab": {
          "base_uri": "https://localhost:8080/"
        },
        "id": "k0YzEOm1Ow_x",
        "outputId": "6f0078ec-6a0e-4173-e1bb-93dd0035bbe3"
      },
      "execution_count": null,
      "outputs": [
        {
          "output_type": "stream",
          "name": "stdout",
          "text": [
            "What is the temperature?:33\n",
            "The temperature in Fahrenheit is: 91.4\n"
          ]
        }
      ]
    },
    {
      "cell_type": "markdown",
      "source": [
        "**Age Calculator**"
      ],
      "metadata": {
        "id": "PHzqpmKLXveQ"
      }
    },
    {
      "cell_type": "code",
      "source": [
        "\n",
        "import datetime\n",
        "current_year = datetime.datetime.now().year\n",
        "birth_year = int(input(\"Please enter your birth year in A.D. (e.g., 1995): \"))\n",
        "if birth_year > current_year:\n",
        "    print(\"Error: Incorrect Birth Date please provide right input.\")\n",
        "else:\n",
        "    age = current_year - birth_year\n",
        "    print(f\"You are {age} years old.\")\n",
        "\n"
      ],
      "metadata": {
        "id": "loLAH1O6SBgp",
        "colab": {
          "base_uri": "https://localhost:8080/"
        },
        "outputId": "5fe9dc06-06b2-4e72-e3f1-aedb3130eb97"
      },
      "execution_count": null,
      "outputs": [
        {
          "output_type": "stream",
          "name": "stdout",
          "text": [
            "Please enter your birth year in A.D. (e.g., 1995): 2030\n",
            "Error: Incorrect Birth Date please provide right input.\n"
          ]
        }
      ]
    },
    {
      "cell_type": "markdown",
      "source": [
        "**Simple Interest Calculator**"
      ],
      "metadata": {
        "id": "Sf2tX7pMaqLZ"
      }
    },
    {
      "cell_type": "code",
      "source": [
        "\n",
        "principal = float(input(\"Enter the principal amount: \"))\n",
        "rate = float(input(\"Enter the annual rate of interest (%): \"))\n",
        "time = float(input(\"Enter the time in years: \"))\n",
        "simple_interest = (principal * rate * time) / 100\n",
        "print(f\"The simple interest is: {simple_interest:.2f}\")\n"
      ],
      "metadata": {
        "colab": {
          "base_uri": "https://localhost:8080/"
        },
        "id": "WjIMHqLeavdK",
        "outputId": "db033719-395a-4665-c95d-ec3db74e6958"
      },
      "execution_count": null,
      "outputs": [
        {
          "output_type": "stream",
          "name": "stdout",
          "text": [
            "Enter the principal amount: 10\n",
            "Enter the annual rate of interest (%): 5\n",
            "Enter the time in years: 32\n",
            "The simple interest is: 16.00\n"
          ]
        }
      ]
    },
    {
      "cell_type": "markdown",
      "source": [
        "**BMI Calculator**"
      ],
      "metadata": {
        "id": "XzU1_ph8bCq_"
      }
    },
    {
      "cell_type": "code",
      "source": [
        "\n",
        "weight = float(input(\"Enter your weight in kilograms (kg): \"))\n",
        "height = float(input(\"Enter your height in meters (m): \"))\n",
        "bmi = weight / (height ** 2)\n",
        "if bmi < 18.5:\n",
        "    category = \"Underweight\"\n",
        "elif 18.5 <= bmi < 24.9:\n",
        "    category = \"Normal weight\"\n",
        "elif 25 <= bmi < 29.9:\n",
        "    category = \"Overweight\"\n",
        "else:\n",
        "    category = \"Obese\"\n",
        "print(f\"Your BMI is: {bmi:.2f}\")\n",
        "print(f\"You are categorized as: {category}\")\n"
      ],
      "metadata": {
        "colab": {
          "base_uri": "https://localhost:8080/"
        },
        "id": "ErjtqdjHbGnc",
        "outputId": "cfb4e29c-5ce1-4e2a-9623-6786f750bf58"
      },
      "execution_count": null,
      "outputs": [
        {
          "output_type": "stream",
          "name": "stdout",
          "text": [
            "Enter your weight in kilograms (kg): 70\n",
            "Enter your height in meters (m): 1.8288\n",
            "Your BMI is: 20.93\n",
            "You are categorized as: Normal weight\n"
          ]
        }
      ]
    },
    {
      "cell_type": "markdown",
      "source": [
        "**Currency Converter**\n"
      ],
      "metadata": {
        "id": "kXgufyC5bh_Q"
      }
    },
    {
      "cell_type": "code",
      "source": [
        "\n",
        "exchange_rate = 136.87\n",
        "amount_npr = float(input(\"Enter the amount in Nepali Rupees (NPR): \"))\n",
        "amount_usd = amount_npr / exchange_rate\n",
        "print(f\"{amount_npr:.2f} NPR is approximately {amount_usd:.2f} USD.\")\n"
      ],
      "metadata": {
        "colab": {
          "base_uri": "https://localhost:8080/"
        },
        "id": "qFpgn9qnboGm",
        "outputId": "9694c720-28a8-42aa-9846-53221c90bbfe"
      },
      "execution_count": null,
      "outputs": [
        {
          "output_type": "stream",
          "name": "stdout",
          "text": [
            "Enter the amount in Nepali Rupees (NPR): 500000\n",
            "500000.00 NPR is approximately 3653.10 USD.\n"
          ]
        }
      ]
    },
    {
      "cell_type": "code",
      "source": [
        "import random\n",
        "print(random.randint(1,10))"
      ],
      "metadata": {
        "colab": {
          "base_uri": "https://localhost:8080/"
        },
        "id": "bCOE4OCCFbP6",
        "outputId": "a5ea7fc4-7184-4159-a2d3-9249e0b7ab60"
      },
      "execution_count": null,
      "outputs": [
        {
          "output_type": "stream",
          "name": "stdout",
          "text": [
            "4\n"
          ]
        }
      ]
    },
    {
      "cell_type": "markdown",
      "source": [
        "#HOME WORK"
      ],
      "metadata": {
        "id": "y1spou5otfnH"
      }
    },
    {
      "cell_type": "markdown",
      "source": [
        "#Question 1: Reading a File"
      ],
      "metadata": {
        "id": "8Qryaue9tiv8"
      }
    },
    {
      "cell_type": "code",
      "source": [
        "try:\n",
        "    with open(\"/content/data.txt\", \"r\") as file:\n",
        "        for line in file:\n",
        "            print(line.strip())\n",
        "except FileNotFoundError:\n",
        "    print(\"The file 'data.txt' was not found.\")\n"
      ],
      "metadata": {
        "colab": {
          "base_uri": "https://localhost:8080/"
        },
        "id": "KbeRY704tmgD",
        "outputId": "c5e4ee49-bafa-4923-8204-2aa0cea07b48"
      },
      "execution_count": 1,
      "outputs": [
        {
          "output_type": "stream",
          "name": "stdout",
          "text": [
            "The file 'data.txt' was not found.\n"
          ]
        }
      ]
    },
    {
      "cell_type": "markdown",
      "source": [
        "#Question 2: Writing to a File"
      ],
      "metadata": {
        "id": "e1YwmNrYtpk0"
      }
    },
    {
      "cell_type": "code",
      "source": [
        "try:\n",
        "    name = input(\"Enter your name: \")\n",
        "    with open(\"/content/data.txt\", \"w\") as file:\n",
        "        file.write(name + \"\\n\")\n",
        "    print(\"Name written to user.txt successfully.\")\n",
        "except Exception as e:\n",
        "    print(\"An error occurred while writing to the file:\", e)\n"
      ],
      "metadata": {
        "colab": {
          "base_uri": "https://localhost:8080/"
        },
        "id": "krVd2i6_tsWt",
        "outputId": "bd53a135-5099-4bb4-c962-0a1d217e4c6d"
      },
      "execution_count": 2,
      "outputs": [
        {
          "output_type": "stream",
          "name": "stdout",
          "text": [
            "Enter your name: SUSHIL\n",
            "Name written to user.txt successfully.\n"
          ]
        }
      ]
    },
    {
      "cell_type": "markdown",
      "source": [
        "#Question 3: Counting Words in a File"
      ],
      "metadata": {
        "id": "ntrYFgAatw7C"
      }
    },
    {
      "cell_type": "code",
      "source": [
        "try:\n",
        "    with open(\"/content/data.txt\", \"r\") as file:\n",
        "        content = file.read()\n",
        "        words = content.split()\n",
        "        print(\"Number of words in the file:\", len(words))\n",
        "except FileNotFoundError:\n",
        "    print(\"The file 'story.txt' was not found.\")\n"
      ],
      "metadata": {
        "colab": {
          "base_uri": "https://localhost:8080/"
        },
        "id": "kksf6-Vct0Ex",
        "outputId": "df93c49a-a610-4410-ce3d-a95ecb7b808e"
      },
      "execution_count": 3,
      "outputs": [
        {
          "output_type": "stream",
          "name": "stdout",
          "text": [
            "The file 'story.txt' was not found.\n"
          ]
        }
      ]
    },
    {
      "cell_type": "markdown",
      "source": [
        "#Question 4: Appending to a File"
      ],
      "metadata": {
        "id": "w7_EtU8vt28Y"
      }
    },
    {
      "cell_type": "code",
      "source": [
        "try:\n",
        "    text = input(\"Enter a line of text to append: \")\n",
        "    with open(\"/content/data.txt\", \"a\") as file:\n",
        "        file.write(text + \"\\n\")\n",
        "    print(\"Text appended to notes.txt.\")\n",
        "except Exception as e:\n",
        "    print(\"An error occurred while appending to the file:\", e)\n"
      ],
      "metadata": {
        "colab": {
          "base_uri": "https://localhost:8080/"
        },
        "id": "gjAZ2r96t6lL",
        "outputId": "751585ee-f270-40b4-a5bc-cafa1f5f0963"
      },
      "execution_count": 4,
      "outputs": [
        {
          "output_type": "stream",
          "name": "stdout",
          "text": [
            "Enter a line of text to append: SUSHIL\n",
            "Text appended to notes.txt.\n"
          ]
        }
      ]
    },
    {
      "cell_type": "markdown",
      "source": [
        "#Question 5: Reading Numbers and Handling Type Errors"
      ],
      "metadata": {
        "id": "xKVRNjKruCVQ"
      }
    },
    {
      "cell_type": "code",
      "source": [
        "try:\n",
        "    with open(\"/content/data.txt\", \"r\") as file:\n",
        "        total = 0\n",
        "        for line in file:\n",
        "            try:\n",
        "                total += float(line.strip())\n",
        "            except ValueError:\n",
        "                print(f\"Invalid data (not a number): {line.strip()}\")\n",
        "        print(\"Sum of valid numbers:\", total)\n",
        "except FileNotFoundError:\n",
        "    print(\"The file 'numbers.txt' was not found.\")\n"
      ],
      "metadata": {
        "colab": {
          "base_uri": "https://localhost:8080/"
        },
        "id": "Pf97TTdCuDhn",
        "outputId": "a462f131-a186-4915-ff55-d32ad4bb0408"
      },
      "execution_count": 7,
      "outputs": [
        {
          "output_type": "stream",
          "name": "stdout",
          "text": [
            "Invalid data (not a number): k xa  hjr\n",
            "Invalid data (not a number): k gardai\n",
            "Invalid data (not a number): thik xa?\n",
            "Sum of valid numbers: 0\n"
          ]
        }
      ]
    }
  ]
}